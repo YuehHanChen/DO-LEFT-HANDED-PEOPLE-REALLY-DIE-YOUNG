{
 "cells": [
  {
   "cell_type": "markdown",
   "metadata": {},
   "source": [
    "# DO LEFT-HANDED PEOPLE REALLY DIE YOUNG ?\n"
   ]
  },
  {
   "cell_type": "markdown",
   "metadata": {},
   "source": [
    "### by Yueh-Han Chen"
   ]
  },
  {
   "cell_type": "markdown",
   "metadata": {},
   "source": [
    "### Dataset Overview\n",
    "\n",
    "<p><img src=\"https://assets.datacamp.com/production/project_479/img/Obama_signs_health_care-20100323.jpg\" alt=\"Barack Obama signs the Patient Protection and Affordable Care Act at the White House, March 23, 2010\"></p>\n",
    "<p>Barack Obama is left-handed. So are Bill Gates and Oprah Winfrey; so were Babe Ruth and Marie Curie. A <a href=\"https://www.nejm.org/doi/full/10.1056/NEJM199104043241418\">1991 study</a> reported that left-handed people die on average nine years earlier than right-handed people. Nine years! Could this really be true? </p>\n",
    "<p>In this notebook, I will explore this phenomenon using age distribution data to see if I can reproduce a difference in average age at death purely from the changing rates of left-handedness over time, refuting the claim of early death for left-handers. This notebook uses <code>pandas</code> and Bayesian statistics to analyze the probability of being a certain age at death given that you are reported as left-handed or right-handed.</p>\n",
    "<p>A National Geographic survey in 1986 resulted in over a million responses that included age, sex, and hand preference for throwing and writing. Researchers Avery Gilbert and Charles Wysocki analyzed this data and noticed that rates of left-handedness were around 13% for people younger than 40 but decreased with age to about 5% by the age of 80. They concluded based on analysis of a subgroup of people who throw left-handed but write right-handed that this age-dependence was primarily due to changing social acceptability of left-handedness. This means that the rates aren't a factor of <em>age</em> specifically but rather of the <em>year you were born</em>, and if the same study was done today, I should expect a shifted version of the same distribution as a function of age. Ultimately, I'll see what effect this changing rate has on the apparent mean age of death of left-handed people, but let's start by plotting the rates of left-handedness as a function of age.</p>\n",
    "<p>This notebook uses two datasets: <a href=\"https://www.cdc.gov/nchs/data/statab/vs00199_table310.pdf\">death distribution data</a> for the United States from the year 1999 (source website <a href=\"https://www.cdc.gov/nchs/nvss/mortality_tables.htm\">here</a>) and rates of left-handedness digitized from a figure in this <a href=\"https://www.ncbi.nlm.nih.gov/pubmed/1528408\">1992 paper by Gilbert and Wysocki</a>. </p>\n",
    "\n",
    "> Project from DataCamp"
   ]
  },
  {
   "cell_type": "markdown",
   "metadata": {},
   "source": [
    "## Data Wrangling"
   ]
  },
  {
   "cell_type": "markdown",
   "metadata": {},
   "source": [
    "### Gather"
   ]
  },
  {
   "cell_type": "code",
   "execution_count": 21,
   "metadata": {},
   "outputs": [],
   "source": [
    "# import all packages and set plots to be embedded inline\n",
    "import numpy as np\n",
    "import pandas as pd\n",
    "import statsmodels.api as sm\n",
    "import matplotlib.pyplot as plt\n",
    "import seaborn as sb\n",
    "\n",
    "%matplotlib inline\n",
    "\n",
    "# suppress warnings from final output\n",
    "import warnings\n",
    "warnings.simplefilter(\"ignore\")"
   ]
  },
  {
   "cell_type": "code",
   "execution_count": 22,
   "metadata": {},
   "outputs": [],
   "source": [
    "#load data\n",
    "data_url_1 = \"https://gist.githubusercontent.com/mbonsma/8da0990b71ba9a09f7de395574e54df1/raw/aec88b30af87fad8d45da7e774223f91dad09e88/lh_data.csv\"\n",
    "lefthanded_data = pd.read_csv(data_url_1)\n",
    "\n",
    "# Death distribution data for the United States in 1999\n",
    "data_url_2 = \"https://gist.githubusercontent.com/mbonsma/2f4076aab6820ca1807f4e29f75f18ec/raw/62f3ec07514c7e31f5979beeca86f19991540796/cdc_vs00199_table310.tsv\"\n",
    "\n",
    "# load death distribution data\n",
    "death_distribution_data = pd.read_csv(data_url_2, sep='\\t',skiprows=[1])"
   ]
  },
  {
   "cell_type": "markdown",
   "metadata": {},
   "source": [
    "### Data Assessing"
   ]
  },
  {
   "cell_type": "code",
   "execution_count": 23,
   "metadata": {
    "scrolled": true
   },
   "outputs": [
    {
     "name": "stdout",
     "output_type": "stream",
     "text": [
      "<class 'pandas.core.frame.DataFrame'>\n",
      "RangeIndex: 77 entries, 0 to 76\n",
      "Data columns (total 3 columns):\n",
      "Age       77 non-null int64\n",
      "Male      77 non-null float64\n",
      "Female    77 non-null float64\n",
      "dtypes: float64(2), int64(1)\n",
      "memory usage: 1.9 KB\n"
     ]
    }
   ],
   "source": [
    "lefthanded_data.info()"
   ]
  },
  {
   "cell_type": "code",
   "execution_count": 24,
   "metadata": {},
   "outputs": [
    {
     "name": "stdout",
     "output_type": "stream",
     "text": [
      "<class 'pandas.core.frame.DataFrame'>\n",
      "RangeIndex: 125 entries, 0 to 124\n",
      "Data columns (total 4 columns):\n",
      "Age           125 non-null int64\n",
      "Both Sexes    120 non-null float64\n",
      "Male          115 non-null float64\n",
      "Female        120 non-null float64\n",
      "dtypes: float64(3), int64(1)\n",
      "memory usage: 4.0 KB\n"
     ]
    }
   ],
   "source": [
    "death_distribution_data.info()"
   ]
  },
  {
   "cell_type": "markdown",
   "metadata": {},
   "source": [
    "### Data Cleaning"
   ]
  },
  {
   "cell_type": "markdown",
   "metadata": {},
   "source": [
    "**missing values in death_distribution_data**"
   ]
  },
  {
   "cell_type": "markdown",
   "metadata": {},
   "source": [
    "**Define: drop NaN values from the `Both Sexes` column**"
   ]
  },
  {
   "cell_type": "markdown",
   "metadata": {},
   "source": [
    "#### Code"
   ]
  },
  {
   "cell_type": "code",
   "execution_count": 25,
   "metadata": {},
   "outputs": [],
   "source": [
    "death_distribution_data.dropna(subset=['Both Sexes'],inplace=True)"
   ]
  },
  {
   "cell_type": "markdown",
   "metadata": {},
   "source": [
    "#### Test"
   ]
  },
  {
   "cell_type": "code",
   "execution_count": 26,
   "metadata": {},
   "outputs": [
    {
     "name": "stdout",
     "output_type": "stream",
     "text": [
      "<class 'pandas.core.frame.DataFrame'>\n",
      "Int64Index: 120 entries, 0 to 120\n",
      "Data columns (total 4 columns):\n",
      "Age           120 non-null int64\n",
      "Both Sexes    120 non-null float64\n",
      "Male          115 non-null float64\n",
      "Female        120 non-null float64\n",
      "dtypes: float64(3), int64(1)\n",
      "memory usage: 4.7 KB\n"
     ]
    }
   ],
   "source": [
    "death_distribution_data.info()"
   ]
  },
  {
   "cell_type": "markdown",
   "metadata": {},
   "source": [
    "## Exploratory Data Analysis"
   ]
  },
  {
   "cell_type": "code",
   "execution_count": 27,
   "metadata": {
    "scrolled": false
   },
   "outputs": [
    {
     "data": {
      "image/png": "[encoded data removed]",
      "text/plain": [
       "<Figure size 432x288 with 1 Axes>"
      ]
     },
     "metadata": {
      "needs_background": "light"
     },
     "output_type": "display_data"
    }
   ],
   "source": [
    "# plot male and female left-handedness rates vs. age\n",
    "fig, ax = plt.subplots() # create figure and axis objects\n",
    "ax.plot('Age', 'Female', data=lefthanded_data, marker = 'o') # plot \"Female\" vs. \"Age\"\n",
    "ax.plot('Age', 'Male', data=lefthanded_data, marker = 'x') # plot \"Male\" vs. \"Age\"\n",
    "ax.legend(['Female',\"Male\"]) # add a legend\n",
    "ax.set_xlabel('Age')\n",
    "ax.set_ylabel(\"rates of left-handedness\");"
   ]
  },
  {
   "cell_type": "code",
   "execution_count": 31,
   "metadata": {},
   "outputs": [],
   "source": [
    "# Since the rate of left-handedness is affected by the birth year, so I gonna create a column called: birth_year\n",
    "lefthanded_data['birth_year'] = 1986-lefthanded_data['Age']\n",
    "\n",
    "# And find out the average number of left-handedness\n",
    "lefthanded_data['mean_l'] = (lefthanded_data['Male']+lefthanded_data['Female'])/2"
   ]
  },
  {
   "cell_type": "code",
   "execution_count": 52,
   "metadata": {
    "scrolled": false
   },
   "outputs": [
    {
     "data": {
      "image/png": "[encoded data removed]",
      "text/plain": [
       "<Figure size 432x288 with 1 Axes>"
      ]
     },
     "metadata": {
      "needs_background": "light"
     },
     "output_type": "display_data"
    }
   ],
   "source": [
    "# create a plot of the 'mean_l' column vs. 'birth_year'\n",
    "fig, ax = plt.subplots()\n",
    "ax.plot('birth_year', 'mean_l', data=lefthanded_data) # plot 'mean_l' column vs. 'birth_year'\n",
    "ax.set_xlabel('Birth year') # set the x label for the plot\n",
    "ax.set_ylabel('Mean rates of left-handedness'); # set the y label for the plot"
   ]
  },
  {
   "cell_type": "markdown",
   "metadata": {},
   "source": [
    "### Applying Bayes' rule\n",
    "<p>The probability of dying at a certain age given that you're left-handed is <strong>not</strong> equal to the probability of being left-handed given that you died at a certain age. This inequality is why we need <strong>Bayes' theorem</strong>, a statement about conditional probability which allows us to update our beliefs after seeing evidence. </p>\n",
    "<p>We want to calculate the probability of dying at age A given that you're left-handed. Let's write this in shorthand as P(A | LH). We also want the same quantity for right-handers: P(A | RH). </p>\n",
    "<p>Here's Bayes' theorem for the two events we care about: left-handedness (LH) and dying at age A.</p>\n",
    "<p>$$P(A | LH) = \\frac{P(LH|A) P(A)}{P(LH)}$$</p>\n",
    "<p>P(LH | A) is the probability that you are left-handed <em>given that</em> you died at age A. P(A) is the overall probability of dying at age A, and P(LH) is the overall probability of being left-handed. We will now calculate each of these three quantities, beginning with P(LH | A).</p>\n",
    "<p>To calculate P(LH | A) for ages that might fall outside the original data, we will need to extrapolate the data to earlier and later years. Since the rates flatten out in the early 1900s and late 1900s, we'll use a few points at each end and take the mean to extrapolate the rates on each end. The number of points used for this is arbitrary, but we'll pick 10 since the data looks flat-ish until about 1910. </p>"
   ]
  },
  {
   "cell_type": "code",
   "execution_count": 43,
   "metadata": {},
   "outputs": [],
   "source": [
    "# import library\n",
    "import numpy as np\n",
    "\n",
    "# create a function for P(LH | A)\n",
    "def P_lh_given_A(ages_of_death, study_year = 1990):\n",
    "    \"\"\" P(Left-handed | ages of death), calculated based on the reported rates of left-handedness.\n",
    "    Inputs: numpy array of ages of death, study_year\n",
    "    Returns: probability of left-handedness given that subjects died in `study_year` at ages `ages_of_death` \"\"\"\n",
    "    \n",
    "    # Use the mean of the 10 last and 10 first points for left-handedness rates before and after the start \n",
    "    early_1900s_rate = lefthanded_data.tail(10).mean_l.mean() \n",
    "    late_1900s_rate = lefthanded_data.head(10).mean_l.mean()\n",
    "    middle_rates = lefthanded_data.loc[lefthanded_data['birth_year'].isin(study_year - ages_of_death)]['mean_l']\n",
    "    youngest_age = study_year - 1986 + 10 # the youngest age is 10\n",
    "    oldest_age = study_year - 1986 + 86 # the oldest age is 86\n",
    "    \n",
    "    P_return = np.zeros(ages_of_death.shape) # create an empty array to store the results\n",
    "    # extract rate of left-handedness for people of ages 'ages_of_death'\n",
    "    P_return[ages_of_death > oldest_age] =  early_1900s_rate / 100\n",
    "    P_return[ages_of_death < youngest_age] =  late_1900s_rate / 100\n",
    "    P_return[np.logical_and((ages_of_death <= oldest_age), (ages_of_death >= youngest_age))] = middle_rates / 100\n",
    "    \n",
    "    return P_return"
   ]
  },
  {
   "cell_type": "markdown",
   "metadata": {},
   "source": [
    "### When do people normally die?\n",
    "<p>To estimate the probability of living to an age A, we can use data that gives the number of people who died in a given year and how old they were to create a distribution of ages of death. If we normalize the numbers to the total number of people who died, we can think of this data as a probability distribution that gives the probability of dying at age A. The data we'll use for this is from the entire US for the year 1999 - the closest I could find for the time range we're interested in. </p>\n",
    "<p>In this block, we'll load in the death distribution data and plot it. The first column is the age, and the other columns are the number of people who died at that age. </p>"
   ]
  },
  {
   "cell_type": "code",
   "execution_count": 39,
   "metadata": {},
   "outputs": [
    {
     "data": {
      "image/png": "[encoded data removed]",
      "text/plain": [
       "<Figure size 432x288 with 1 Axes>"
      ]
     },
     "metadata": {
      "needs_background": "light"
     },
     "output_type": "display_data"
    }
   ],
   "source": [
    "# plot number of people who died as a function of age\n",
    "fig, ax = plt.subplots()\n",
    "ax.plot('Age', 'Both Sexes', data = death_distribution_data, marker='o') # plot 'Both Sexes' vs. 'Age'\n",
    "ax.set_xlabel('Age') \n",
    "ax.set_ylabel('Death numbers of Both Sexes');"
   ]
  },
  {
   "cell_type": "markdown",
   "metadata": {},
   "source": [
    "### The overall probability of left-handedness\n",
    "<p>In the previous code block we loaded data to give us P(A), and now we need P(LH). P(LH) is the probability that a person who died in our particular study year is left-handed, assuming we know nothing else about them. This is the average left-handedness in the population of deceased people, and we can calculate it by summing up all of the left-handedness probabilities for each age, weighted with the number of deceased people at each age, then divided by the total number of deceased people to get a probability. In equation form, this is what we're calculating, where N(A) is the number of people who died at age A (given by the dataframe <code>death_distribution_data</code>):</p>\n",
    "<p><img src=\"https://i.imgur.com/gBIWykY.png\" alt=\"equation\" width=\"220\"></p>\n",
    "<!--- $$P(LH) = \\frac{\\sum_{\\text{A}} P(LH | A) N(A)}{\\sum_{\\text{A}} N(A)}$$ -->"
   ]
  },
  {
   "cell_type": "code",
   "execution_count": 44,
   "metadata": {},
   "outputs": [
    {
     "name": "stdout",
     "output_type": "stream",
     "text": [
      "0.07766387615350638\n"
     ]
    }
   ],
   "source": [
    "def P_lh(death_distribution_data, study_year = 1990): # sum over P_lh for each age group\n",
    "    \"\"\" Overall probability of being left-handed if you died in the study year\n",
    "    Input: dataframe of death distribution data, study year\n",
    "    Output: P(LH), a single floating point number \"\"\"\n",
    "    p_list = P_lh_given_A(death_distribution_data['Age'],study_year) * death_distribution_data['Both Sexes'] # multiply number of dead people by P_lh_given_A\n",
    "    p = p_list.sum() # calculate the sum of p_list\n",
    "    return p/death_distribution_data['Both Sexes'].sum() # normalize to total number of people (sum of death_distribution_data['Both Sexes'])\n",
    "\n",
    "print(P_lh(death_distribution_data))"
   ]
  },
  {
   "cell_type": "markdown",
   "metadata": {},
   "source": [
    "### Putting it all together: dying while left-handed (i)\n",
    "<p>Now we have the means of calculating all three quantities we need: P(A), P(LH), and P(LH | A). We can combine all three using Bayes' rule to get P(A | LH), the probability of being age A at death (in the study year) given that you're left-handed. To make this answer meaningful, though, we also want to compare it to P(A | RH), the probability of being age A at death given that you're right-handed. </p>\n",
    "<p>We're calculating the following quantity twice, once for left-handers and once for right-handers.</p>\n",
    "<p>$$P(A | LH) = \\frac{P(LH|A) P(A)}{P(LH)}$$</p>\n",
    "<p>First, for left-handers.</p>\n",
    "<!--Notice that I was careful not to call these \"probability of dying at age A\", since that's not actually what we're calculating: we use the exact same death distribution data for each. -->"
   ]
  },
  {
   "cell_type": "code",
   "execution_count": 45,
   "metadata": {},
   "outputs": [],
   "source": [
    "def P_A_given_lh(ages_of_death, death_distribution_data, study_year = 1990):\n",
    "    \"\"\" The overall probability of being a particular `age_of_death` given that you're left-handed \"\"\"\n",
    "    P_A = death_distribution_data['Both Sexes'][ages_of_death]/death_distribution_data['Both Sexes'].sum()\n",
    "    P_left = P_lh(death_distribution_data, study_year) # use P_lh function to get probability of left-handedness overall\n",
    "    P_lh_A = P_lh_given_A(ages_of_death, study_year) # use P_lh_given_A to get probability of left-handedness for a certain age\n",
    "    return P_lh_A*P_A/P_left"
   ]
  },
  {
   "cell_type": "markdown",
   "metadata": {},
   "source": [
    "<p>And now for right-handers.</p>"
   ]
  },
  {
   "cell_type": "code",
   "execution_count": 47,
   "metadata": {},
   "outputs": [],
   "source": [
    "def P_A_given_rh(ages_of_death, death_distribution_data, study_year = 1990):\n",
    "    \"\"\" The overall probability of being a particular `age_of_death` given that you're right-handed \"\"\"\n",
    "    \n",
    "    P_A = death_distribution_data['Both Sexes'][ages_of_death]/death_distribution_data['Both Sexes'].sum()\n",
    "    P_right = 1-P_lh(death_distribution_data, study_year) # either you're left-handed or right-handed, so P_right = 1 - P_left\n",
    "    P_rh_A = 1-P_lh_given_A(ages_of_death, study_year) # P_rh_A = 1 - P_lh_A \n",
    "    \n",
    "    return P_rh_A*P_A / P_right"
   ]
  },
  {
   "cell_type": "markdown",
   "metadata": {},
   "source": [
    "### Plotting the distributions of conditional probabilities\n",
    "<p>Now that we have functions to calculate the probability of being age A at death given that you're left-handed or right-handed, let's plot these probabilities for a range of ages of death from 6 to 120. </p>\n",
    "<p>Notice that the left-handed distribution has a bump below age 70: of the pool of deceased people, left-handed people are more likely to be younger. </p>"
   ]
  },
  {
   "cell_type": "code",
   "execution_count": 48,
   "metadata": {},
   "outputs": [
    {
     "data": {
      "image/png": "[encoded data removed]",
      "text/plain": [
       "<Figure size 432x288 with 1 Axes>"
      ]
     },
     "metadata": {
      "needs_background": "light"
     },
     "output_type": "display_data"
    }
   ],
   "source": [
    "ages = np.arange(6, 120, 1) # make a list of ages of death to plot\n",
    "\n",
    "# calculate the probability of being left- or right-handed for each \n",
    "left_handed_probability = P_A_given_lh(ages,death_distribution_data,1999)\n",
    "right_handed_probability = P_A_given_rh(ages,death_distribution_data,1999)\n",
    "\n",
    "# create a plot of the two probabilities vs. age\n",
    "fig, ax = plt.subplots() # create figure and axis objects\n",
    "ax.plot(ages, left_handed_probability, label = \"Left-handed\")\n",
    "ax.plot(ages, right_handed_probability, label = \"Right-handed\")\n",
    "ax.legend() # add a legend\n",
    "ax.set_xlabel(\"Age at death\")\n",
    "ax.set_ylabel(r\"Probability of being age A at death\");"
   ]
  },
  {
   "cell_type": "markdown",
   "metadata": {},
   "source": [
    "### Moment of truth: age of left and right-handers at death\n",
    "<p>Finally, let's compare our results with the original study that found that left-handed people were nine years younger at death on average. We can do this by calculating the mean of these probability distributions in the same way we calculated P(LH) earlier, weighting the probability distribution by age and summing over the result.</p>\n",
    "<p>$$\\text{Average age of left-handed people at death} = \\sum_A A P(A | LH)$$</p>\n",
    "<p>$$\\text{Average age of right-handed people at death} = \\sum_A A P(A | RH)$$</p>"
   ]
  },
  {
   "cell_type": "code",
   "execution_count": 49,
   "metadata": {},
   "outputs": [
    {
     "name": "stdout",
     "output_type": "stream",
     "text": [
      "67.69702073317897 72.81669680889922\n",
      "The difference in average ages is 5.1 years.\n"
     ]
    }
   ],
   "source": [
    "# calculate average ages for left-handed and right-handed groups\n",
    "# use np.array so that two arrays can be multiplied\n",
    "average_lh_age =  np.nansum(P_A_given_lh(death_distribution_data['Age'],death_distribution_data,1999)*np.array(death_distribution_data['Age']))\n",
    "average_rh_age =  np.nansum(P_A_given_rh(death_distribution_data['Age'],death_distribution_data,1999)*np.array(death_distribution_data['Age']))\n",
    "\n",
    "# print the average ages for each group\n",
    "print(average_lh_age,average_rh_age)\n",
    "\n",
    "# print the difference between the average ages\n",
    "print(\"The difference in average ages is \" + str(round((average_rh_age - average_lh_age), 1)) + \" years.\")"
   ]
  },
  {
   "cell_type": "markdown",
   "metadata": {},
   "source": [
    "### Final comments\n",
    "<p>We got a pretty big age gap between left-handed and right-handed people purely as a result of the changing rates of left-handedness in the population, which is good news for left-handers: you probably won't die young because of your sinisterness. The reported rates of left-handedness have increased from just 3% in the early 1900s to about 11% today, which means that older people are much more likely to be reported as right-handed than left-handed, and so looking at a sample of recently deceased people will have more old right-handers.</p>\n",
    "<p>Our number is still less than the 9-year gap measured in the study. It's possible that some of the approximations we made are the cause: </p>\n",
    "<ol>\n",
    "<li>We used death distribution data from almost ten years after the study (1999 instead of 1991), and we used death data from the entire United States instead of California alone (which was the original study). </li>\n",
    "<li>We extrapolated the left-handedness survey results to older and younger age groups, but it's possible our extrapolation wasn't close enough to the true rates for those ages. </li>\n",
    "</ol>\n",
    "<p>One thing we could do next is figure out how much variability we would expect to encounter in the age difference purely because of random sampling: if you take a smaller sample of recently deceased people and assign handedness with the probabilities of the survey, what does that distribution look like? How often would we encounter an age gap of nine years using the same data and assumptions? We won't do that here, but it's possible with this data and the tools of random sampling. </p>\n",
    "<!-- I did do this if we want to add more tasks - it would probably take three more blocks.-->\n",
    "<p>To finish off, let's calculate the age gap we'd expect if we did the study in 2018 instead of in 1990. The gap turns out to be much smaller since rates of left-handedness haven't increased for people born after about 1960. Both the National Geographic study and the 1990 study happened at a unique time - the rates of left-handedness had been changing across the lifetimes of most people alive, and the difference in handedness between old and young was at its most striking. </p>"
   ]
  },
  {
   "cell_type": "code",
   "execution_count": 50,
   "metadata": {},
   "outputs": [
    {
     "name": "stdout",
     "output_type": "stream",
     "text": [
      "The difference in average ages is 2.3 years.\n"
     ]
    }
   ],
   "source": [
    "ages = death_distribution_data['Age']\n",
    "\n",
    "# Calculate the probability of being left- or right-handed for all ages\n",
    "left_handed_probability_2018 = P_A_given_lh(ages, death_distribution_data, study_year = 2018)\n",
    "right_handed_probability_2018 = P_A_given_rh(ages, death_distribution_data, study_year = 2018)\n",
    "\n",
    "# calculate average ages for left-handed and right-handed groups\n",
    "average_lh_age_2018 = np.nansum(ages*np.array(left_handed_probability_2018))\n",
    "average_rh_age_2018 = np.nansum(ages*np.array(right_handed_probability_2018))\n",
    "\n",
    "print(\"The difference in average ages is \" + \n",
    "      str(round(average_rh_age_2018 - average_lh_age_2018, 1)) + \" years.\")"
   ]
  },
  {
   "cell_type": "markdown",
   "metadata": {},
   "source": [
    "## Other solution without using Bayes' rule :"
   ]
  },
  {
   "cell_type": "code",
   "execution_count": 145,
   "metadata": {},
   "outputs": [],
   "source": [
    "# find out the birht-year of each age in the death_distribution_data so that we can map the rate of left_handedness\n",
    "# into the death_distribution_data\n",
    "death_distribution_data['birth_year'] = 1999 - death_distribution_data['Age']\n",
    "death_distribution_data['left_handedness'] = 0\n",
    "early_average= lefthanded_data.tail(10).mean_l.mean()\n",
    "late_average= lefthanded_data.head(10).mean_l.mean()\n",
    "for i in list(death_distribution_data['birth_year']):\n",
    "    index = list(death_distribution_data[death_distribution_data['birth_year']==i].index)[0]\n",
    "    if i < 1900:\n",
    "        death_distribution_data['left_handedness'][index:index+1] = early_average\n",
    "    elif i > 1976:\n",
    "        death_distribution_data['left_handedness'][index:index+1] = late_average\n",
    "    else:\n",
    "        death_distribution_data['left_handedness'][index:index+1] = lefthanded_data[lefthanded_data['birth_year']==i].mean_l.mean()\n",
    "# I found out this if loop will miss the index 117, because I remove the mssing value before this operation, \n",
    "# so I add the rate manually.\n",
    "death_distribution_data['left_handedness'][116:117+1] = early_average"
   ]
  },
  {
   "cell_type": "code",
   "execution_count": 146,
   "metadata": {},
   "outputs": [],
   "source": [
    "# find out the rate of right_handedness\n",
    "death_distribution_data['right_handedness'] = 100-death_distribution_data['left_handedness']\n",
    "# find out the death number of left_handedness so that I can calcualte the left_handedness_death_rate later\n",
    "death_distribution_data['left_handedness_death'] = death_distribution_data['Both Sexes']*death_distribution_data['left_handedness']/100\n",
    "# find out the death number of right_handedness so that I can calcualte the right_handedness_death_rate later\n",
    "death_distribution_data['right_handedness_death'] = death_distribution_data['Both Sexes']*death_distribution_data['right_handedness']/100\n",
    "# calcualte the left_handedness_death_rate\n",
    "death_distribution_data['left_handedness_death_rate'] = death_distribution_data['left_handedness_death']/death_distribution_data['left_handedness_death'].sum()\n",
    "# calcualte the right_handedness_death_rate\n",
    "death_distribution_data['right_handedness_death_rate'] = death_distribution_data['right_handedness_death']/death_distribution_data['right_handedness_death'].sum()"
   ]
  },
  {
   "cell_type": "code",
   "execution_count": 149,
   "metadata": {},
   "outputs": [
    {
     "data": {
      "text/html": [
       "<div>\n",
       "<style scoped>\n",
       "    .dataframe tbody tr th:only-of-type {\n",
       "        vertical-align: middle;\n",
       "    }\n",
       "\n",
       "    .dataframe tbody tr th {\n",
       "        vertical-align: top;\n",
       "    }\n",
       "\n",
       "    .dataframe thead th {\n",
       "        text-align: right;\n",
       "    }\n",
       "</style>\n",
       "<table border=\"1\" class=\"dataframe\">\n",
       "  <thead>\n",
       "    <tr style=\"text-align: right;\">\n",
       "      <th></th>\n",
       "      <th>Age</th>\n",
       "      <th>Both Sexes</th>\n",
       "      <th>Male</th>\n",
       "      <th>Female</th>\n",
       "      <th>birth_year</th>\n",
       "      <th>left_handedness</th>\n",
       "      <th>right_handedness</th>\n",
       "      <th>left_handedness_death</th>\n",
       "      <th>right_handedness_death</th>\n",
       "      <th>left_handedness_death_rate</th>\n",
       "      <th>right_handedness_death_rate</th>\n",
       "    </tr>\n",
       "  </thead>\n",
       "  <tbody>\n",
       "    <tr>\n",
       "      <td>0</td>\n",
       "      <td>0</td>\n",
       "      <td>27937.0</td>\n",
       "      <td>15646.0</td>\n",
       "      <td>12291.0</td>\n",
       "      <td>1999</td>\n",
       "      <td>13.090615</td>\n",
       "      <td>86.909385</td>\n",
       "      <td>3657.124980</td>\n",
       "      <td>24279.875020</td>\n",
       "      <td>1.744119e-02</td>\n",
       "      <td>1.113061e-02</td>\n",
       "    </tr>\n",
       "    <tr>\n",
       "      <td>1</td>\n",
       "      <td>1</td>\n",
       "      <td>1989.0</td>\n",
       "      <td>1103.0</td>\n",
       "      <td>886.0</td>\n",
       "      <td>1998</td>\n",
       "      <td>13.090615</td>\n",
       "      <td>86.909385</td>\n",
       "      <td>260.372323</td>\n",
       "      <td>1728.627677</td>\n",
       "      <td>1.241741e-03</td>\n",
       "      <td>7.924542e-04</td>\n",
       "    </tr>\n",
       "    <tr>\n",
       "      <td>2</td>\n",
       "      <td>2</td>\n",
       "      <td>1376.0</td>\n",
       "      <td>797.0</td>\n",
       "      <td>579.0</td>\n",
       "      <td>1997</td>\n",
       "      <td>13.090615</td>\n",
       "      <td>86.909385</td>\n",
       "      <td>180.126856</td>\n",
       "      <td>1195.873144</td>\n",
       "      <td>8.590428e-04</td>\n",
       "      <td>5.482237e-04</td>\n",
       "    </tr>\n",
       "    <tr>\n",
       "      <td>3</td>\n",
       "      <td>3</td>\n",
       "      <td>1046.0</td>\n",
       "      <td>601.0</td>\n",
       "      <td>445.0</td>\n",
       "      <td>1996</td>\n",
       "      <td>13.090615</td>\n",
       "      <td>86.909385</td>\n",
       "      <td>136.927828</td>\n",
       "      <td>909.072172</td>\n",
       "      <td>6.530223e-04</td>\n",
       "      <td>4.167456e-04</td>\n",
       "    </tr>\n",
       "    <tr>\n",
       "      <td>4</td>\n",
       "      <td>4</td>\n",
       "      <td>838.0</td>\n",
       "      <td>474.0</td>\n",
       "      <td>364.0</td>\n",
       "      <td>1995</td>\n",
       "      <td>13.090615</td>\n",
       "      <td>86.909385</td>\n",
       "      <td>109.699350</td>\n",
       "      <td>728.300650</td>\n",
       "      <td>5.231670e-04</td>\n",
       "      <td>3.338746e-04</td>\n",
       "    </tr>\n",
       "    <tr>\n",
       "      <td>...</td>\n",
       "      <td>...</td>\n",
       "      <td>...</td>\n",
       "      <td>...</td>\n",
       "      <td>...</td>\n",
       "      <td>...</td>\n",
       "      <td>...</td>\n",
       "      <td>...</td>\n",
       "      <td>...</td>\n",
       "      <td>...</td>\n",
       "      <td>...</td>\n",
       "      <td>...</td>\n",
       "    </tr>\n",
       "    <tr>\n",
       "      <td>115</td>\n",
       "      <td>115</td>\n",
       "      <td>3.0</td>\n",
       "      <td>NaN</td>\n",
       "      <td>3.0</td>\n",
       "      <td>1884</td>\n",
       "      <td>6.007159</td>\n",
       "      <td>93.992841</td>\n",
       "      <td>0.180215</td>\n",
       "      <td>2.819785</td>\n",
       "      <td>8.594620e-07</td>\n",
       "      <td>1.292673e-06</td>\n",
       "    </tr>\n",
       "    <tr>\n",
       "      <td>117</td>\n",
       "      <td>117</td>\n",
       "      <td>3.0</td>\n",
       "      <td>2.0</td>\n",
       "      <td>1.0</td>\n",
       "      <td>1882</td>\n",
       "      <td>6.007159</td>\n",
       "      <td>93.992841</td>\n",
       "      <td>0.180215</td>\n",
       "      <td>2.819785</td>\n",
       "      <td>8.594620e-07</td>\n",
       "      <td>1.292673e-06</td>\n",
       "    </tr>\n",
       "    <tr>\n",
       "      <td>118</td>\n",
       "      <td>118</td>\n",
       "      <td>1.0</td>\n",
       "      <td>NaN</td>\n",
       "      <td>1.0</td>\n",
       "      <td>1881</td>\n",
       "      <td>6.007159</td>\n",
       "      <td>93.992841</td>\n",
       "      <td>0.060072</td>\n",
       "      <td>0.939928</td>\n",
       "      <td>2.864873e-07</td>\n",
       "      <td>4.308911e-07</td>\n",
       "    </tr>\n",
       "    <tr>\n",
       "      <td>119</td>\n",
       "      <td>119</td>\n",
       "      <td>2.0</td>\n",
       "      <td>NaN</td>\n",
       "      <td>2.0</td>\n",
       "      <td>1880</td>\n",
       "      <td>6.007159</td>\n",
       "      <td>93.992841</td>\n",
       "      <td>0.120143</td>\n",
       "      <td>1.879857</td>\n",
       "      <td>5.729746e-07</td>\n",
       "      <td>8.617821e-07</td>\n",
       "    </tr>\n",
       "    <tr>\n",
       "      <td>120</td>\n",
       "      <td>120</td>\n",
       "      <td>1.0</td>\n",
       "      <td>NaN</td>\n",
       "      <td>1.0</td>\n",
       "      <td>1879</td>\n",
       "      <td>6.007159</td>\n",
       "      <td>93.992841</td>\n",
       "      <td>0.060072</td>\n",
       "      <td>0.939928</td>\n",
       "      <td>2.864873e-07</td>\n",
       "      <td>4.308911e-07</td>\n",
       "    </tr>\n",
       "  </tbody>\n",
       "</table>\n",
       "<p>120 rows × 11 columns</p>\n",
       "</div>"
      ],
      "text/plain": [
       "     Age  Both Sexes     Male   Female  birth_year  left_handedness  \\\n",
       "0      0     27937.0  15646.0  12291.0        1999        13.090615   \n",
       "1      1      1989.0   1103.0    886.0        1998        13.090615   \n",
       "2      2      1376.0    797.0    579.0        1997        13.090615   \n",
       "3      3      1046.0    601.0    445.0        1996        13.090615   \n",
       "4      4       838.0    474.0    364.0        1995        13.090615   \n",
       "..   ...         ...      ...      ...         ...              ...   \n",
       "115  115         3.0      NaN      3.0        1884         6.007159   \n",
       "117  117         3.0      2.0      1.0        1882         6.007159   \n",
       "118  118         1.0      NaN      1.0        1881         6.007159   \n",
       "119  119         2.0      NaN      2.0        1880         6.007159   \n",
       "120  120         1.0      NaN      1.0        1879         6.007159   \n",
       "\n",
       "     right_handedness  left_handedness_death  right_handedness_death  \\\n",
       "0           86.909385            3657.124980            24279.875020   \n",
       "1           86.909385             260.372323             1728.627677   \n",
       "2           86.909385             180.126856             1195.873144   \n",
       "3           86.909385             136.927828              909.072172   \n",
       "4           86.909385             109.699350              728.300650   \n",
       "..                ...                    ...                     ...   \n",
       "115         93.992841               0.180215                2.819785   \n",
       "117         93.992841               0.180215                2.819785   \n",
       "118         93.992841               0.060072                0.939928   \n",
       "119         93.992841               0.120143                1.879857   \n",
       "120         93.992841               0.060072                0.939928   \n",
       "\n",
       "     left_handedness_death_rate  right_handedness_death_rate  \n",
       "0                  1.744119e-02                 1.113061e-02  \n",
       "1                  1.241741e-03                 7.924542e-04  \n",
       "2                  8.590428e-04                 5.482237e-04  \n",
       "3                  6.530223e-04                 4.167456e-04  \n",
       "4                  5.231670e-04                 3.338746e-04  \n",
       "..                          ...                          ...  \n",
       "115                8.594620e-07                 1.292673e-06  \n",
       "117                8.594620e-07                 1.292673e-06  \n",
       "118                2.864873e-07                 4.308911e-07  \n",
       "119                5.729746e-07                 8.617821e-07  \n",
       "120                2.864873e-07                 4.308911e-07  \n",
       "\n",
       "[120 rows x 11 columns]"
      ]
     },
     "execution_count": 149,
     "metadata": {},
     "output_type": "execute_result"
    }
   ],
   "source": [
    "# check the data\n",
    "death_distribution_data"
   ]
  },
  {
   "cell_type": "code",
   "execution_count": 150,
   "metadata": {},
   "outputs": [
    {
     "data": {
      "image/png": "[encoded data removed]",
      "text/plain": [
       "<Figure size 432x288 with 1 Axes>"
      ]
     },
     "metadata": {
      "needs_background": "light"
     },
     "output_type": "display_data"
    }
   ],
   "source": [
    "# plot left_handedness_death_rate vs. right_handedness_death_rate\n",
    "fig, ax = plt.subplots() # create figure and axis objects\n",
    "ax.plot('Age', 'left_handedness_death_rate', data=death_distribution_data) # plot 'left_handedness_death_rate' vs. \"Age\"\n",
    "ax.plot('Age', 'right_handedness_death_rate', data=death_distribution_data) # plot 'right_handedness_death_rate' vs. \"Age\"\n",
    "ax.legend(['left_handedness_death_rate',\"right_handedness_death_rate\"]) # add a legend\n",
    "ax.set_xlabel('Age')\n",
    "ax.set_ylabel(\"death rates\");"
   ]
  },
  {
   "cell_type": "code",
   "execution_count": 160,
   "metadata": {
    "scrolled": true
   },
   "outputs": [
    {
     "name": "stdout",
     "output_type": "stream",
     "text": [
      "Average dead age of right handedness: 72.81669680889921\n",
      "Average dead age of left handedness: 67.69702073317897\n",
      "Difference:  5.1196760757202355  years\n"
     ]
    }
   ],
   "source": [
    "# calculate the average dead age of right_handedness_death_rate and left_handedness_death_rate\n",
    "print('Average dead age of right handedness:' ,(death_distribution_data['right_handedness_death_rate']*death_distribution_data['Age']).sum())\n",
    "print('Average dead age of left handedness:' ,(death_distribution_data['left_handedness_death_rate']*death_distribution_data['Age']).sum())\n",
    "print(\"Difference: \",(death_distribution_data['right_handedness_death_rate']*death_distribution_data['Age']).sum()-(death_distribution_data['left_handedness_death_rate']*death_distribution_data['Age']).sum(), \" years\")"
   ]
  }
 ],
 "metadata": {
  "kernelspec": {
   "display_name": "Python 3",
   "language": "python",
   "name": "python3"
  },
  "language_info": {
   "codemirror_mode": {
    "name": "ipython",
    "version": 3
   },
   "file_extension": ".py",
   "mimetype": "text/x-python",
   "name": "python",
   "nbconvert_exporter": "python",
   "pygments_lexer": "ipython3",
   "version": "3.7.4"
  }
 },
 "nbformat": 4,
 "nbformat_minor": 2
}
