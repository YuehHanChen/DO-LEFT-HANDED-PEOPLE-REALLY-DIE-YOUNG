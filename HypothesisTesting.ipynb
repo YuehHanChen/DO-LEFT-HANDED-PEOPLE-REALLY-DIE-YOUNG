{
 "cells": [
  {
   "cell_type": "markdown",
   "metadata": {},
   "source": [
    "# DO LEFT-HANDED PEOPLE REALLY DIE YOUNG ?\n"
   ]
  },
  {
   "cell_type": "markdown",
   "metadata": {},
   "source": [
    "### by Yueh-Han Chen"
   ]
  },
  {
   "cell_type": "markdown",
   "metadata": {},
   "source": [
    "## Data Wrangling"
   ]
  },
  {
   "cell_type": "markdown",
   "metadata": {},
   "source": [
    "### Gather"
   ]
  },
  {
   "cell_type": "code",
   "execution_count": 2,
   "metadata": {},
   "outputs": [],
   "source": [
    "# import all packages and set plots to be embedded inline\n",
    "import numpy as np\n",
    "import pandas as pd\n",
    "import statsmodels.api as sm\n",
    "import matplotlib.pyplot as plt\n",
    "import seaborn as sb\n",
    "\n",
    "%matplotlib inline\n",
    "\n",
    "# suppress warnings from final output\n",
    "import warnings\n",
    "warnings.simplefilter(\"ignore\")"
   ]
  },
  {
   "cell_type": "code",
   "execution_count": 3,
   "metadata": {},
   "outputs": [],
   "source": [
    "#load data\n",
    "data_url_1 = \"https://gist.githubusercontent.com/mbonsma/8da0990b71ba9a09f7de395574e54df1/raw/aec88b30af87fad8d45da7e774223f91dad09e88/lh_data.csv\"\n",
    "lefthanded_data = pd.read_csv(data_url_1)\n",
    "\n",
    "# Death distribution data for the United States in 1999\n",
    "data_url_2 = \"https://gist.githubusercontent.com/mbonsma/2f4076aab6820ca1807f4e29f75f18ec/raw/62f3ec07514c7e31f5979beeca86f19991540796/cdc_vs00199_table310.tsv\"\n",
    "\n",
    "# load death distribution data\n",
    "death_distribution_data = pd.read_csv(data_url_2, sep='\\t',skiprows=[1])"
   ]
  },
  {
   "cell_type": "markdown",
   "metadata": {},
   "source": [
    "### Data Cleaning"
   ]
  },
  {
   "cell_type": "markdown",
   "metadata": {},
   "source": [
    "**missing values in death_distribution_data**"
   ]
  },
  {
   "cell_type": "markdown",
   "metadata": {},
   "source": [
    "**Define: drop NaN values from the `Both Sexes` column**"
   ]
  },
  {
   "cell_type": "markdown",
   "metadata": {},
   "source": [
    "#### Code"
   ]
  },
  {
   "cell_type": "code",
   "execution_count": 4,
   "metadata": {},
   "outputs": [],
   "source": [
    "death_distribution_data.dropna(subset=['Both Sexes'],inplace=True)"
   ]
  },
  {
   "cell_type": "markdown",
   "metadata": {},
   "source": [
    "# EDA"
   ]
  },
  {
   "cell_type": "code",
   "execution_count": 6,
   "metadata": {},
   "outputs": [],
   "source": [
    "# Since the rate of left-handedness is affected by the birth year, so I gonna create a column called: birth_year\n",
    "lefthanded_data['birth_year'] = 1986-lefthanded_data['Age']\n",
    "\n",
    "# And find out the average number of left-handedness\n",
    "lefthanded_data['mean_l'] = (lefthanded_data['Male']+lefthanded_data['Female'])/2"
   ]
  },
  {
   "cell_type": "code",
   "execution_count": 7,
   "metadata": {},
   "outputs": [],
   "source": [
    "# find out the birht-year of each age in the death_distribution_data so that we can map the rate of left_handedness\n",
    "# into the death_distribution_data\n",
    "death_distribution_data['birth_year'] = 1999 - death_distribution_data['Age']\n",
    "death_distribution_data['left_handedness'] = 0\n",
    "early_average= lefthanded_data.tail(10).mean_l.mean()\n",
    "late_average= lefthanded_data.head(10).mean_l.mean()\n",
    "for i in list(death_distribution_data['birth_year']):\n",
    "    index = list(death_distribution_data[death_distribution_data['birth_year']==i].index)[0]\n",
    "    if i < 1900:\n",
    "        death_distribution_data['left_handedness'][index:index+1] = early_average\n",
    "    elif i > 1976:\n",
    "        death_distribution_data['left_handedness'][index:index+1] = late_average\n",
    "    else:\n",
    "        death_distribution_data['left_handedness'][index:index+1] = lefthanded_data[lefthanded_data['birth_year']==i].mean_l.mean()\n",
    "# I found out this if loop will miss the index 117, because I remove the mssing value before this operation, \n",
    "# so I add the rate manually.\n",
    "death_distribution_data['left_handedness'][116:117+1] = early_average"
   ]
  },
  {
   "cell_type": "code",
   "execution_count": 8,
   "metadata": {},
   "outputs": [],
   "source": [
    "# find out the rate of right_handedness\n",
    "death_distribution_data['right_handedness'] = 100-death_distribution_data['left_handedness']\n",
    "# find out the death number of left_handedness so that I can calcualte the left_handedness_death_rate later\n",
    "death_distribution_data['left_handedness_death'] = death_distribution_data['Both Sexes']*death_distribution_data['left_handedness']/100\n",
    "# find out the death number of right_handedness so that I can calcualte the right_handedness_death_rate later\n",
    "death_distribution_data['right_handedness_death'] = death_distribution_data['Both Sexes']*death_distribution_data['right_handedness']/100\n",
    "# calcualte the left_handedness_death_rate\n",
    "death_distribution_data['left_handedness_death_rate'] = death_distribution_data['left_handedness_death']/death_distribution_data['left_handedness_death'].sum()\n",
    "# calcualte the right_handedness_death_rate\n",
    "death_distribution_data['right_handedness_death_rate'] = death_distribution_data['right_handedness_death']/death_distribution_data['right_handedness_death'].sum()"
   ]
  },
  {
   "cell_type": "markdown",
   "metadata": {},
   "source": [
    "## Hypothesis Testing"
   ]
  },
  {
   "cell_type": "markdown",
   "metadata": {},
   "source": [
    "> **H0: RH's average dead age - LH's average dead age == 9**\n",
    "\n",
    "> **H1: RH's average dead age - LH's average dead age != 9**"
   ]
  },
  {
   "cell_type": "code",
   "execution_count": 9,
   "metadata": {
    "scrolled": false
   },
   "outputs": [
    {
     "name": "stdout",
     "output_type": "stream",
     "text": [
      "Average dead age of right handedness: 72.81669680889921\n",
      "Average dead age of left handedness: 67.69702073317897\n",
      "Difference:  5.1196760757202355  years\n"
     ]
    }
   ],
   "source": [
    "# calculate the average dead age of right_handedness_death_rate and left_handedness_death_rate\n",
    "print('Average dead age of right handedness:' ,(death_distribution_data['right_handedness_death_rate']*death_distribution_data['Age']).sum())\n",
    "print('Average dead age of left handedness:' ,(death_distribution_data['left_handedness_death_rate']*death_distribution_data['Age']).sum())\n",
    "print(\"Difference: \",(death_distribution_data['right_handedness_death_rate']*death_distribution_data['Age']).sum()-(death_distribution_data['left_handedness_death_rate']*death_distribution_data['Age']).sum(), \" years\")"
   ]
  },
  {
   "cell_type": "code",
   "execution_count": 28,
   "metadata": {
    "scrolled": true
   },
   "outputs": [
    {
     "data": {
      "image/png": "[encoded data removed]",
      "text/plain": [
       "<Figure size 432x288 with 1 Axes>"
      ]
     },
     "metadata": {
      "needs_background": "light"
     },
     "output_type": "display_data"
    }
   ],
   "source": [
    "# computed the observed difference\n",
    "obs_diff = (death_distribution_data['right_handedness_death_rate']*death_distribution_data['Age']).sum()-(death_distribution_data['left_handedness_death_rate']*death_distribution_data['Age']).sum()\n",
    "\n",
    "# bootstrapped the sampling distribution for the difference\n",
    "sample_diff=[]\n",
    "for i in range(10000):\n",
    "    sample = death_distribution_data.sample(120, replace=True).sort_values('Age')\n",
    "    rh_da = (sample['right_handedness_death_rate']*sample['Age']).sum()\n",
    "    lh_da = (sample['left_handedness_death_rate']*sample['Age']).sum()\n",
    "    sample_diff.append(rh_da-lh_da)\n",
    "    \n",
    "plt.hist(sample_diff);"
   ]
  },
  {
   "cell_type": "code",
   "execution_count": 29,
   "metadata": {},
   "outputs": [
    {
     "data": {
      "text/plain": [
       "2.518941319736359"
      ]
     },
     "execution_count": 29,
     "metadata": {},
     "output_type": "execute_result"
    }
   ],
   "source": [
    "# find its std\n",
    "std_sampling = np.std(sample_diff)\n",
    "std_sampling"
   ]
  },
  {
   "cell_type": "code",
   "execution_count": 44,
   "metadata": {},
   "outputs": [
    {
     "data": {
      "image/png": "[encoded data removed]",
      "text/plain": [
       "<Figure size 432x288 with 1 Axes>"
      ]
     },
     "metadata": {
      "needs_background": "light"
     },
     "output_type": "display_data"
    }
   ],
   "source": [
    "#simulate the distribution under the null hypothesis, \n",
    "#by creating a random normal distribution centered at 9 with the same spread and size.\n",
    "null_vals = np.random.normal(9, std_sampling, len(sample_diff))\n",
    "plt.hist(null_vals);\n",
    "plt.axvline(x=obs_diff, color = 'red');\n",
    "plt.axvline(x=(9+9-obs_diff), color = 'red');"
   ]
  },
  {
   "cell_type": "code",
   "execution_count": 31,
   "metadata": {},
   "outputs": [
    {
     "data": {
      "text/plain": [
       "0.12209999999999999"
      ]
     },
     "execution_count": 31,
     "metadata": {},
     "output_type": "execute_result"
    }
   ],
   "source": [
    "# alpha = 0.05 \n",
    "# compute the p-value \n",
    "((null_vals < obs_diff).mean()+(null_vals > (9+9-obs_diff)).mean()).mean()"
   ]
  },
  {
   "cell_type": "markdown",
   "metadata": {},
   "source": [
    "## Conclusion \n",
    "\n",
    "> I fail to reject the null hypothesis, because We don't have enough evidence to say that right-handed people average dead age minus right-handed people's dead age is not equal to 9 years."
   ]
  }
 ],
 "metadata": {
  "kernelspec": {
   "display_name": "Python 3",
   "language": "python",
   "name": "python3"
  },
  "language_info": {
   "codemirror_mode": {
    "name": "ipython",
    "version": 3
   },
   "file_extension": ".py",
   "mimetype": "text/x-python",
   "name": "python",
   "nbconvert_exporter": "python",
   "pygments_lexer": "ipython3",
   "version": "3.7.4"
  }
 },
 "nbformat": 4,
 "nbformat_minor": 2
}
